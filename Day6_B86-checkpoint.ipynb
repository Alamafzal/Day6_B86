{
 "cells": [
  {
   "cell_type": "code",
   "execution_count": 1,
   "id": "b336712f-6b25-4fa9-aa12-ddc6fae98c80",
   "metadata": {},
   "outputs": [],
   "source": [
    "students=['danish','kumar','naveen','taniya','likitha','soumya']"
   ]
  },
  {
   "cell_type": "code",
   "execution_count": 2,
   "id": "4ec4d0ef-e335-4138-8ce0-6d8ba149622f",
   "metadata": {},
   "outputs": [
    {
     "name": "stdout",
     "output_type": "stream",
     "text": [
      "['danish', 'kumar', 'naveen', 'taniya', 'likitha', 'soumya']\n"
     ]
    }
   ],
   "source": [
    "print(students)"
   ]
  },
  {
   "cell_type": "code",
   "execution_count": null,
   "id": "e335f3c7-7614-4daa-b4be-be1135d94087",
   "metadata": {},
   "outputs": [],
   "source": []
  },
  {
   "cell_type": "code",
   "execution_count": 6,
   "id": "cf334bf6-c4c1-4447-b380-3ed936e573c2",
   "metadata": {},
   "outputs": [],
   "source": [
    "message= f\"keep up the good work, {students[0].title()}\""
   ]
  },
  {
   "cell_type": "code",
   "execution_count": 7,
   "id": "59ef1ccb-6981-491a-bdf2-7da47ea57b1b",
   "metadata": {},
   "outputs": [
    {
     "name": "stdout",
     "output_type": "stream",
     "text": [
      "keep up the good work, Danish\n"
     ]
    }
   ],
   "source": [
    "print(message)"
   ]
  },
  {
   "cell_type": "code",
   "execution_count": null,
   "id": "e5fd0dc6-8634-442b-9592-a78cc2535705",
   "metadata": {},
   "outputs": [],
   "source": []
  },
  {
   "cell_type": "code",
   "execution_count": 8,
   "id": "309d0ea3-ce32-4f9b-a292-2a3d9e3482ab",
   "metadata": {},
   "outputs": [],
   "source": [
    "message= f\"keep up the good work, {students[1].title()}\""
   ]
  },
  {
   "cell_type": "code",
   "execution_count": 9,
   "id": "3b82bd14-9b16-40f9-a1c9-5ebeddc049cf",
   "metadata": {},
   "outputs": [
    {
     "name": "stdout",
     "output_type": "stream",
     "text": [
      "keep up the good work, Kumar\n"
     ]
    }
   ],
   "source": [
    "print(message)"
   ]
  },
  {
   "cell_type": "code",
   "execution_count": null,
   "id": "e16bc305-1bec-4a14-83b1-2deb6c2115e7",
   "metadata": {},
   "outputs": [],
   "source": []
  },
  {
   "cell_type": "code",
   "execution_count": 10,
   "id": "f6150531-3287-48e5-8d06-1118de1ac429",
   "metadata": {},
   "outputs": [],
   "source": [
    "# General syntax of the for loop"
   ]
  },
  {
   "cell_type": "code",
   "execution_count": null,
   "id": "02cd2d4e-f998-4ed4-934c-4b30432e4a77",
   "metadata": {},
   "outputs": [],
   "source": [
    "for tempvar in mainvar"
   ]
  },
  {
   "cell_type": "code",
   "execution_count": null,
   "id": "5620d273-5c5f-470e-9077-ce2163e8d824",
   "metadata": {},
   "outputs": [],
   "source": [
    "print(tempvar)"
   ]
  },
  {
   "cell_type": "code",
   "execution_count": null,
   "id": "2e5e1629-3bbd-4988-8ed7-18aed8f1d0c8",
   "metadata": {},
   "outputs": [],
   "source": []
  },
  {
   "cell_type": "code",
   "execution_count": 16,
   "id": "0f4c10bc-e033-4f59-a5a9-ee3f623eedf3",
   "metadata": {},
   "outputs": [
    {
     "name": "stdout",
     "output_type": "stream",
     "text": [
      "keep up the good work, danish\n",
      "keep up the good work, kumar\n",
      "keep up the good work, naveen\n",
      "keep up the good work, taniya\n",
      "keep up the good work, likitha\n",
      "keep up the good work, soumya\n"
     ]
    }
   ],
   "source": [
    "for x in students : \n",
    "    print(f\"keep up the good work, {x}\")"
   ]
  },
  {
   "cell_type": "code",
   "execution_count": null,
   "id": "4e4748f6-960e-455f-bc38-adaa3421d8a8",
   "metadata": {},
   "outputs": [],
   "source": []
  },
  {
   "cell_type": "code",
   "execution_count": 17,
   "id": "2d7abb43-0484-44ba-9930-26a7dff77e41",
   "metadata": {},
   "outputs": [
    {
     "ename": "IndentationError",
     "evalue": "expected an indented block after 'for' statement on line 1 (3113773524.py, line 2)",
     "output_type": "error",
     "traceback": [
      "\u001b[1;36m  Cell \u001b[1;32mIn[17], line 2\u001b[1;36m\u001b[0m\n\u001b[1;33m    print(f\"keep up the good work, {x}\")\u001b[0m\n\u001b[1;37m    ^\u001b[0m\n\u001b[1;31mIndentationError\u001b[0m\u001b[1;31m:\u001b[0m expected an indented block after 'for' statement on line 1\n"
     ]
    }
   ],
   "source": [
    "for x in students : \n",
    "print(f\"keep up the good work, {x}\")"
   ]
  },
  {
   "cell_type": "code",
   "execution_count": 18,
   "id": "7a9e03cd-5913-4af0-9dc1-49e6223f4f65",
   "metadata": {},
   "outputs": [
    {
     "ename": "SyntaxError",
     "evalue": "expected ':' (2870072904.py, line 1)",
     "output_type": "error",
     "traceback": [
      "\u001b[1;36m  Cell \u001b[1;32mIn[18], line 1\u001b[1;36m\u001b[0m\n\u001b[1;33m    for x in students\u001b[0m\n\u001b[1;37m                      ^\u001b[0m\n\u001b[1;31mSyntaxError\u001b[0m\u001b[1;31m:\u001b[0m expected ':'\n"
     ]
    }
   ],
   "source": [
    "for x in students \n",
    "    print(f\"keep up the good work, {x}\")"
   ]
  },
  {
   "cell_type": "code",
   "execution_count": null,
   "id": "547bc322-5e5a-47bc-93bd-46cdf2060b74",
   "metadata": {},
   "outputs": [],
   "source": []
  },
  {
   "cell_type": "code",
   "execution_count": 19,
   "id": "e9de74eb-8218-41bd-ba4c-567d5c8037f6",
   "metadata": {},
   "outputs": [
    {
     "name": "stdout",
     "output_type": "stream",
     "text": [
      "keep up the good work, danish\n",
      "do submit the practice work of today as well,danish\n",
      "keep up the good work, kumar\n",
      "do submit the practice work of today as well,kumar\n",
      "keep up the good work, naveen\n",
      "do submit the practice work of today as well,naveen\n",
      "keep up the good work, taniya\n",
      "do submit the practice work of today as well,taniya\n",
      "keep up the good work, likitha\n",
      "do submit the practice work of today as well,likitha\n",
      "keep up the good work, soumya\n",
      "do submit the practice work of today as well,soumya\n"
     ]
    }
   ],
   "source": [
    "for x in students : \n",
    "    print(f\"keep up the good work, {x}\")\n",
    "    print(f\"do submit the practice work of today as well,{x}\")"
   ]
  },
  {
   "cell_type": "code",
   "execution_count": null,
   "id": "7df9fb89-b7c7-47e7-9a4e-5fccce0ea554",
   "metadata": {},
   "outputs": [],
   "source": []
  },
  {
   "cell_type": "code",
   "execution_count": 20,
   "id": "ef211dc7-ab1f-4d85-afba-16cbaab5f458",
   "metadata": {},
   "outputs": [
    {
     "name": "stdout",
     "output_type": "stream",
     "text": [
      "keep up the good work, danish\n",
      "do submit the practice work of today as well,danish.\n",
      "\n",
      "keep up the good work, kumar\n",
      "do submit the practice work of today as well,kumar.\n",
      "\n",
      "keep up the good work, naveen\n",
      "do submit the practice work of today as well,naveen.\n",
      "\n",
      "keep up the good work, taniya\n",
      "do submit the practice work of today as well,taniya.\n",
      "\n",
      "keep up the good work, likitha\n",
      "do submit the practice work of today as well,likitha.\n",
      "\n",
      "keep up the good work, soumya\n",
      "do submit the practice work of today as well,soumya.\n",
      "\n"
     ]
    }
   ],
   "source": [
    "for x in students : \n",
    "    print(f\"keep up the good work, {x}\")\n",
    "    print(f\"do submit the practice work of today as well,{x}.\\n\")"
   ]
  },
  {
   "cell_type": "code",
   "execution_count": 22,
   "id": "3be8dfd6-aa3b-4b5d-9e82-bfdbf712bbda",
   "metadata": {},
   "outputs": [],
   "source": [
    "# Inloop and out loop concept"
   ]
  },
  {
   "cell_type": "code",
   "execution_count": 21,
   "id": "675e7d55-315d-4c02-bad5-21eedfb738b6",
   "metadata": {},
   "outputs": [
    {
     "name": "stdout",
     "output_type": "stream",
     "text": [
      "keep up the good work, danish\n",
      "do submit the practice work of today as well,danish.\n",
      "\n",
      "keep up the good work, kumar\n",
      "do submit the practice work of today as well,kumar.\n",
      "\n",
      "keep up the good work, naveen\n",
      "do submit the practice work of today as well,naveen.\n",
      "\n",
      "keep up the good work, taniya\n",
      "do submit the practice work of today as well,taniya.\n",
      "\n",
      "keep up the good work, likitha\n",
      "do submit the practice work of today as well,likitha.\n",
      "\n",
      "keep up the good work, soumya\n",
      "do submit the practice work of today as well,soumya.\n",
      "\n",
      "Thank you all for joining in the python sessions\n"
     ]
    }
   ],
   "source": [
    "for x in students : \n",
    "    print(f\"keep up the good work, {x}\")\n",
    "    print(f\"do submit the practice work of today as well,{x}.\\n\")\n",
    "print(\"Thank you all for joining in the python sessions\")"
   ]
  },
  {
   "cell_type": "code",
   "execution_count": null,
   "id": "9efc6f6a-3153-40dd-91ed-b4349b2f900e",
   "metadata": {},
   "outputs": [],
   "source": []
  },
  {
   "cell_type": "code",
   "execution_count": 23,
   "id": "0362e466-0f47-4224-8151-04e4c74254a1",
   "metadata": {},
   "outputs": [],
   "source": [
    "# Introduction to dictionary datatypes"
   ]
  },
  {
   "cell_type": "code",
   "execution_count": 24,
   "id": "3c7b91b4-1149-4258-83b3-07c073204bee",
   "metadata": {},
   "outputs": [],
   "source": [
    "# req: to create a sample dictionary"
   ]
  },
  {
   "cell_type": "code",
   "execution_count": null,
   "id": "99b94c7b-2d1c-4f54-9b4c-bfbdad980a2a",
   "metadata": {},
   "outputs": [],
   "source": []
  },
  {
   "cell_type": "code",
   "execution_count": 25,
   "id": "ddbe2889-bed2-45a4-8a53-c61b01c3e869",
   "metadata": {},
   "outputs": [],
   "source": [
    "alien={'colour':'green', 'points':5}"
   ]
  },
  {
   "cell_type": "raw",
   "id": "f3da6672-2e80-4ee6-aa70-848d9b173a3b",
   "metadata": {},
   "source": []
  },
  {
   "cell_type": "code",
   "execution_count": 26,
   "id": "f00336b2-e060-4e65-86f3-20e55934acc2",
   "metadata": {},
   "outputs": [
    {
     "name": "stdout",
     "output_type": "stream",
     "text": [
      "{'colour': 'green', 'points': 5}\n"
     ]
    }
   ],
   "source": [
    "print(alien)"
   ]
  },
  {
   "cell_type": "code",
   "execution_count": 27,
   "id": "5d09ec1f-0d6b-498a-92ba-f351f21c6e80",
   "metadata": {},
   "outputs": [
    {
     "data": {
      "text/plain": [
       "dict"
      ]
     },
     "execution_count": 27,
     "metadata": {},
     "output_type": "execute_result"
    }
   ],
   "source": [
    "type (alien)"
   ]
  },
  {
   "cell_type": "code",
   "execution_count": null,
   "id": "ecec2067-9168-459c-8a57-00ea9810e106",
   "metadata": {},
   "outputs": [],
   "source": []
  },
  {
   "cell_type": "code",
   "execution_count": 28,
   "id": "84d99437-2519-4adb-bc09-a5b89ffa845b",
   "metadata": {},
   "outputs": [],
   "source": [
    "# req: i want to add the level"
   ]
  },
  {
   "cell_type": "code",
   "execution_count": 29,
   "id": "8e1147ac-cf89-44e5-9afc-70878b88f898",
   "metadata": {},
   "outputs": [
    {
     "data": {
      "text/plain": [
       "1"
      ]
     },
     "execution_count": 29,
     "metadata": {},
     "output_type": "execute_result"
    }
   ],
   "source": [
    "1"
   ]
  },
  {
   "cell_type": "code",
   "execution_count": 30,
   "id": "d1b12808-58eb-4ccd-8785-12c2bcd792de",
   "metadata": {},
   "outputs": [],
   "source": [
    "alien['level']='level-1'"
   ]
  },
  {
   "cell_type": "code",
   "execution_count": 31,
   "id": "5a2323d0-4163-436d-bc94-65181e5b4c0a",
   "metadata": {},
   "outputs": [
    {
     "name": "stdout",
     "output_type": "stream",
     "text": [
      "{'colour': 'green', 'points': 5, 'level': 'level-1'}\n"
     ]
    }
   ],
   "source": [
    "print(alien)"
   ]
  },
  {
   "cell_type": "code",
   "execution_count": null,
   "id": "b3ec0f27-3acc-49b5-b5db-1f631a581327",
   "metadata": {},
   "outputs": [],
   "source": []
  },
  {
   "cell_type": "code",
   "execution_count": 32,
   "id": "3e08dbdb-0872-4b73-89ae-2dfa7c849b55",
   "metadata": {},
   "outputs": [],
   "source": [
    "# req: how to add the values"
   ]
  },
  {
   "cell_type": "code",
   "execution_count": 36,
   "id": "cf394d6b-5a02-453c-a295-1a9aea78fc58",
   "metadata": {},
   "outputs": [
    {
     "name": "stdout",
     "output_type": "stream",
     "text": [
      "green\n"
     ]
    }
   ],
   "source": [
    "print(alien['colour'])  #give the key and get the value"
   ]
  },
  {
   "cell_type": "code",
   "execution_count": 34,
   "id": "a14527dd-2092-4ca6-a6f8-849a3160ba06",
   "metadata": {},
   "outputs": [
    {
     "name": "stdout",
     "output_type": "stream",
     "text": [
      "5\n"
     ]
    }
   ],
   "source": [
    "print(alien['points'])"
   ]
  },
  {
   "cell_type": "code",
   "execution_count": null,
   "id": "dd84f448-d4c1-4e46-9774-522fd3f8fcaf",
   "metadata": {},
   "outputs": [],
   "source": []
  },
  {
   "cell_type": "code",
   "execution_count": 35,
   "id": "ec267124-c3d3-41e4-b983-fc4b8c350854",
   "metadata": {},
   "outputs": [],
   "source": [
    "# give the value and get the key"
   ]
  },
  {
   "cell_type": "code",
   "execution_count": 37,
   "id": "7ddc2532-5774-4cd4-9c67-9a359f5bb51b",
   "metadata": {},
   "outputs": [
    {
     "ename": "KeyError",
     "evalue": "'green'",
     "output_type": "error",
     "traceback": [
      "\u001b[1;31m---------------------------------------------------------------------------\u001b[0m",
      "\u001b[1;31mKeyError\u001b[0m                                  Traceback (most recent call last)",
      "Cell \u001b[1;32mIn[37], line 1\u001b[0m\n\u001b[1;32m----> 1\u001b[0m \u001b[38;5;28mprint\u001b[39m(alien[\u001b[38;5;124m'\u001b[39m\u001b[38;5;124mgreen\u001b[39m\u001b[38;5;124m'\u001b[39m])\n",
      "\u001b[1;31mKeyError\u001b[0m: 'green'"
     ]
    }
   ],
   "source": [
    "print(alien['green'])"
   ]
  },
  {
   "cell_type": "code",
   "execution_count": 38,
   "id": "c958085b-8857-49b1-a0cc-b5d1d718be58",
   "metadata": {},
   "outputs": [],
   "source": [
    "# create a user account"
   ]
  },
  {
   "cell_type": "code",
   "execution_count": 40,
   "id": "3812e4c2-a5c0-4016-af61-a25a8116c248",
   "metadata": {},
   "outputs": [],
   "source": [
    "useraccount={'username':'code training','firstname':'code','lastname':'training','dob':'01-01-2020','password':'54321'}"
   ]
  },
  {
   "cell_type": "code",
   "execution_count": 41,
   "id": "0afbbd3a-8c6f-4aac-a24c-f4a9fac9547f",
   "metadata": {},
   "outputs": [
    {
     "name": "stdout",
     "output_type": "stream",
     "text": [
      "{'username': 'code training', 'firstname': 'code', 'lastname': 'training', 'dob': '01-01-2020', 'password': '54321'}\n"
     ]
    }
   ],
   "source": [
    "print (useraccount)"
   ]
  },
  {
   "cell_type": "code",
   "execution_count": null,
   "id": "ce68496d-6f20-42c0-b398-d97201eb2b8b",
   "metadata": {},
   "outputs": [],
   "source": []
  },
  {
   "cell_type": "code",
   "execution_count": null,
   "id": "fc32d914-b950-4d56-b0d8-c977c82e7683",
   "metadata": {},
   "outputs": [],
   "source": []
  }
 ],
 "metadata": {
  "kernelspec": {
   "display_name": "Python 3 (ipykernel)",
   "language": "python",
   "name": "python3"
  },
  "language_info": {
   "codemirror_mode": {
    "name": "ipython",
    "version": 3
   },
   "file_extension": ".py",
   "mimetype": "text/x-python",
   "name": "python",
   "nbconvert_exporter": "python",
   "pygments_lexer": "ipython3",
   "version": "3.11.7"
  }
 },
 "nbformat": 4,
 "nbformat_minor": 5
}
